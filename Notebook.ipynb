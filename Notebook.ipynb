storageaccount = "Test"
filedate = "2024-01-28"

#import libraries
import requests
import json
import pandas as pd
from notebookutils import mssparkutils
import datetime
import time

client_id = TokenLibrary.getSecret('prd-daap', 'snow-clientid-api', 'devdaapkeyvault') if storageaccount == "adlsgen2" else TokenLibrary.getSecret('dev-daap', 'snow-clientid-api', 'devdaapkeyvault')
client_secret = TokenLibrary.getSecret('prd-daap', 'snow-secret-api', 'devdaapkeyvault') if storageaccount == "adlsgen2" else TokenLibrary.getSecret('dev-daap', 'snow-secret-api', 'devdaapkeyvault')
client_token= TokenLibrary.getSecret('prd-daap', 'snow-token-api', 'devdaapkeyvault') if storageaccount == adlsgen2" else TokenLibrary.getSecret('dev-daap', 'snow-token-api', 'devdaapkeyvault')

def get_token() :
    token_url = "https://serv-now.com/oauth_token.do"
    token_data = {
    "grant_type": "refresh_token",
    "client_id": client_id,
    "client_secret": client_secret,
    "refresh_token": client_token
    }
    token_r = requests.post(token_url, data=token_data)
    token = token_r.json().get('access_token')
    return token

from functools import reduce
from pyspark.sql import DataFrame
import pandas as pd
from pyspark.sql.functions import explode, col
spark.conf.set("spark.sql.execution.arrow.enabled","true")
from pyspark.sql.functions import explode, Column,lit, concat_ws, col, to_json
from pyspark.sql.types import *
from pyspark.sql.types import StringType,BooleanType,DateType

offset = 0

import pyspark.sql.functions as F
def truncate_string(col, max_len):
  # Check if the column length is greater than the maximum length
  cond = F.length(col) > max_len
  # If yes, return the substring of the column from 0 to max_len
  # If no, return the column as it is
  return F.when(cond, col.substr(0, max_len)).otherwise(col).cast(StringType())

offset_list = []
timestamp = datetime.datetime.now().strftime('%Y-%m-%d %H:%M:%S')
def getData() :
    token = get_token()
    global offset
    global offset_list
    headers = {
    'Content-Type': 'application/json',
    "Authorization": "Bearer {}".format(token)
    }
    get_url = f"https://serv-now.com/api/v1/data/configuration-item?lastUpdated={filedate}&limit=10000&offset={offset}"
    # get_url = f"https://serv-now.com/api/v1/data/configuration-item?limit=10000&offset={offset}"
    response = requests.request("GET", get_url, headers=headers)
    data = response.json()
    nextPage = 1 if len(data["result"]) > 0 else 0
    if nextPage == 1:
        json_rdd = sc.parallelize([response.text])
        df = spark.read.json(json_rdd)
        df1 = df.select(explode("result").alias("value"))
        df2 = df1.select("value.*")
        df2=df2.withColumn("u_iiq_feedback", lit("None").cast(StringType()))
        df2=df2.withColumn("comments",truncate_string(F.col("comments"),3999))
        df2=df2.withColumn("asset_tag",truncate_string(F.col("asset_tag"),98))
        df2=df2.withColumn("assigned",truncate_string(F.col("assigned"),98))
        df2=df2.withColumn("assigned_to",truncate_string(F.col("assigned_to"),98))
        df2=df2.withColumn("delivery_date",truncate_string(F.col("delivery_date"),198))
        df2=df2.withColumn("discovery_source",truncate_string(F.col("discovery_source"),198))
        df2=df2.withColumn("duplicate_of",truncate_string(F.col("duplicate_of"),198))
        df2=df2.withColumn("install_date",truncate_string(F.col("install_date"),198))
        df2=df2.withColumn("install_status",truncate_string(F.col("install_status"),198))
        df2=df2.withColumn("invoice_number",truncate_string(F.col("invoice_number"),198))
        df2=df2.withColumn("ip_address",truncate_string(F.col("ip_address"),198))
        df2=df2.withColumn("lease_id",truncate_string(F.col("lease_id"),198))
        df2=df2.withColumn("location",truncate_string(F.col("location"),198))
        df2=df2.withColumn("mac_address",truncate_string(F.col("mac_address"),198))
        df2=df2.withColumn("manufacturer",truncate_string(F.col("manufacturer"),198))
        df2=df2.withColumn("model_display_name",truncate_string(F.col("model_display_name"),198))
        df2=df2.withColumn("model_number",truncate_string(F.col("model_number"),(500)))
        df2=df2.withColumn("monitor",truncate_string(F.col("monitor"),198))
        df2=df2.withColumn("u_replacement_count",truncate_string(F.col("u_replacement_count"),198))
        df2=df2.withColumn("name",truncate_string(F.col("name"),198))
        df2=df2.withColumn("order_date",truncate_string(F.col("order_date"),198))
        df2=df2.withColumn("owned_by",truncate_string(F.col("owned_by"),198))
        df2=df2.withColumn("po_number",truncate_string(F.col("po_number"),198))
        df2=df2.withColumn("purchase_date",truncate_string(F.col("purchase_date"),198))
        df2=df2.withColumn("serial_number",truncate_string(F.col("serial_number"),198))
        df2=df2.withColumn("short_description",truncate_string(F.col("short_description"),3999))
        df2=df2.withColumn("supported_by",truncate_string(F.col("supported_by"),198))
        df2=df2.withColumn("support_group",truncate_string(F.col("support_group"),198))
        df2=df2.withColumn("sys_class_name",truncate_string(F.col("sys_class_name"),198))
        df2=df2.withColumn("sys_created_by",truncate_string(F.col("sys_created_by"),198))
        df2=df2.withColumn("sys_created_on",truncate_string(F.col("sys_created_on"),198))
        df2=df2.withColumn("sys_id",truncate_string(F.col("sys_id"),98))
        df2=df2.withColumn("sys_mod_count",truncate_string(F.col("sys_mod_count"),198))
        df2=df2.withColumn("sys_updated_by",truncate_string(F.col("sys_updated_by"),198))
        df2=df2.withColumn("sys_updated_on",truncate_string(F.col("sys_updated_on"),198))
        df2=df2.withColumn("unverified",truncate_string(F.col("unverified"),198))
        df2=df2.withColumn("u_address",truncate_string(F.col("u_address"),198))
        df2=df2.withColumn("u_ams_atsn_id",truncate_string(F.col("u_ams_atsn_id"),198))
        df2=df2.withColumn("u_assettype",truncate_string(F.col("u_assettype"),198))
        df2=df2.withColumn("u_asset_record_id",truncate_string(F.col("u_asset_record_id"),198))
        df2=df2.withColumn("u_bios",truncate_string(F.col("u_bios"),198))
        df2=df2.withColumn("u_bios_version",truncate_string(F.col("u_bios_version"),198))
        df2=df2.withColumn("u_building",truncate_string(F.col("u_building"),198))
        df2=df2.withColumn("u_buildingcode",truncate_string(F.col("u_buildingcode"),198))
        df2=df2.withColumn("u_carrier",truncate_string(F.col("u_carrier"),198))
        df2=df2.withColumn("u_cart_id",truncate_string(F.col("u_cart_id"),198))
        df2=df2.withColumn("u_case_with_keyboard",truncate_string(F.col("u_case_with_keyboard"),198))
        df2=df2.withColumn("u_cdn",truncate_string(F.col("u_cdn"),198))
        df2=df2.withColumn("u_centrally_funded",truncate_string(F.col("u_centrally_funded"),198))
        df2=df2.withColumn("u_changedby",truncate_string(F.col("u_changedby"),198))
        df2=df2.withColumn("u_changedwhen",truncate_string(F.col("u_changedwhen"),198))
        df2=df2.withColumn("u_city",truncate_string(F.col("u_city"),198))
        df2=df2.withColumn("u_contactemail",truncate_string(F.col("u_contactemail"),198))
        df2=df2.withColumn("u_contact_at_site",truncate_string(F.col("u_contact_at_site"),198))
        df2=df2.withColumn("u_contact_phone",truncate_string(F.col("u_contact_phone"),198))
        df2=df2.withColumn("u_contact_site",truncate_string(F.col("u_contact_site"),198))
        df2=df2.withColumn("u_cpu_speed",truncate_string(F.col("u_cpu_speed"),198))
        df2=df2.withColumn("u_cpu_type",truncate_string(F.col("u_cpu_type"),198))
        df2=df2.withColumn("u_created_by",truncate_string(F.col("u_created_by"),198))
        df2=df2.withColumn("u_created_by_main",truncate_string(F.col("u_created_by_main"),198))
        df2=df2.withColumn("u_created_when",truncate_string(F.col("u_created_when"),198))
        df2=df2.withColumn("u_critical",truncate_string(F.col("u_critical"),198))
        df2=df2.withColumn("u_csn",truncate_string(F.col("u_csn"),198))
        df2=df2.withColumn("u_disposalcertificate",truncate_string(F.col("u_disposalcertificate"),198))
        df2=df2.withColumn("u_disposalcode",truncate_string(F.col("u_disposalcode"),198))
        df2=df2.withColumn("u_disposaldate",truncate_string(F.col("u_disposaldate"),198))
        df2=df2.withColumn("u_dupcountassettag",truncate_string(F.col("u_dupcountassettag"),198))
        df2=df2.withColumn("u_dupcountserialno",truncate_string(F.col("u_dupcountserialno"),198))
        df2=df2.withColumn("u_error",truncate_string(F.col("u_error"),198))
        df2=df2.withColumn("u_famis_siteid",truncate_string(F.col("u_famis_siteid"),198))
        df2=df2.withColumn("u_file_name",truncate_string(F.col("u_file_name"),198))
        df2=df2.withColumn("u_floor",truncate_string(F.col("u_floor"),198))
        df2=df2.withColumn("u_fundingsource",truncate_string(F.col("u_fundingsource"),198))
        df2=df2.withColumn("u_fundingyear",truncate_string(F.col("u_fundingyear"),198))
        df2=df2.withColumn("u_iccid",truncate_string(F.col("u_iccid"),198))
        df2=df2.withColumn("u_imagenumber",truncate_string(F.col("u_imagenumber"),198))
        df2=df2.withColumn("u_imei",truncate_string(F.col("u_imei"),198))
        df2=df2.withColumn("u_inventoryby",truncate_string(F.col("u_inventoryby"),198))
        df2=df2.withColumn("u_inventory_date",truncate_string(F.col("u_inventory_date"),198))
        df2=df2.withColumn("u_lastticketid",truncate_string(F.col("u_lastticketid"),198))
        df2=df2.withColumn("u_ldacode",truncate_string(F.col("u_ldacode"),198))
        df2=df2.withColumn("u_lda_sde_companyid",truncate_string(F.col("u_lda_sde_companyid"),198))
        df2=df2.withColumn("u_lda_sde_locationcode",truncate_string(F.col("u_lda_sde_locationcode"),198))
        df2=df2.withColumn("u_location",truncate_string(F.col("u_location"),198))
        df2=df2.withColumn("u_locationcode",truncate_string(F.col("u_locationcode"),198))
        df2=df2.withColumn("u_maclan",truncate_string(F.col("u_maclan"),198))
        df2=df2.withColumn("u_macwan",truncate_string(F.col("u_macwan"),198))
        df2=df2.withColumn("u_mac_bluetooth",truncate_string(F.col("u_mac_bluetooth"),198))
        df2=df2.withColumn("u_mac_lan",truncate_string(F.col("u_mac_lan"),198))
        df2=df2.withColumn("u_mac_wan",truncate_string(F.col("u_mac_wan"),198))
        df2=df2.withColumn("u_number_cpu",truncate_string(F.col("u_number_cpu"),198))
        df2=df2.withColumn("u_number_cpus",truncate_string(F.col("u_number_cpus"),198))
        df2=df2.withColumn("u_ny_purchasetrackingdate",truncate_string(F.col("u_ny_purchasetrackingdate"),198))
        df2=df2.withColumn("u_ny_purchasetrackingid",truncate_string(F.col("u_ny_purchasetrackingid"),198))
        df2=df2.withColumn("u_ny_purchase_order_number",truncate_string(F.col("u_ny_purchase_order_number"),198))
        df2=df2.withColumn("u_operating_system",truncate_string(F.col("u_operating_system"),198))
        df2=df2.withColumn("u_orderpcs_program",truncate_string(F.col("u_orderpcs_program"),198))
        df2=df2.withColumn("u_orderpcs_vendor",truncate_string(F.col("u_orderpcs_vendor"),198))
        df2=df2.withColumn("u_parentassettag",truncate_string(F.col("u_parentassettag"),198))
        df2=df2.withColumn("u_parent_location_code",truncate_string(F.col("u_parent_location_code"),198))
        df2=df2.withColumn("u_partnumber",truncate_string(F.col("u_partnumber"),198))
        df2=df2.withColumn("u_pcs_age",truncate_string(F.col("u_pcs_age"),198))
        df2=df2.withColumn("u_pcs_age_text",truncate_string(F.col("u_pcs_age_text"),198))
        df2=df2.withColumn("u_pcs_age_txt",truncate_string(F.col("u_pcs_age_txt"),198))
        df2=df2.withColumn("u_pcs_assettype",truncate_string(F.col("u_pcs_assettype"),198))
        df2=df2.withColumn("u_pcs_coverage",truncate_string(F.col("u_pcs_coverage"),198))
        df2=df2.withColumn("u_pcs_coveragecurrent",truncate_string(F.col("u_pcs_coveragecurrent"),198))
        df2=df2.withColumn("u_pcs_coverageexpdate",truncate_string(F.col("u_pcs_coverageexpdate"),198))
        df2=df2.withColumn("u_pcs_coveragenew",truncate_string(F.col("u_pcs_coveragenew"),198))
        df2=df2.withColumn("u_pcs_location_code",truncate_string(F.col("u_pcs_location_code"),198))
        df2=df2.withColumn("u_pcs_warrantyflag",truncate_string(F.col("u_pcs_warrantyflag"),198))
        df2=df2.withColumn("u_pcs_warrantystartdate",truncate_string(F.col("u_pcs_warrantystartdate"),198))
        df2=df2.withColumn("u_pcs_warranty_final_date",truncate_string(F.col("u_pcs_warranty_final_date"),198))
        df2=df2.withColumn("u_phone_number",truncate_string(F.col("u_phone_number"),198))
        df2=df2.withColumn("u_physical_memory",truncate_string(F.col("u_physical_memory"),198))
        df2=df2.withColumn("u_pickup_date",truncate_string(F.col("u_pickup_date"),198))
        df2=df2.withColumn("u_primary_use",truncate_string(F.col("u_primary_use"),198))
        df2=df2.withColumn("u_priority",truncate_string(F.col("u_priority"),198))
        df2=df2.withColumn("u_project_name",truncate_string(F.col("u_project_name"),198))
        df2=df2.withColumn("u_reason4change",truncate_string(F.col("u_reason4change"),198))
        df2=df2.withColumn("u_replacementassettag",truncate_string(F.col("u_replacementassettag"),198))
        df2=df2.withColumn("u_replacementrelationship",truncate_string(F.col("u_replacementrelationship"),198))
        df2=df2.withColumn("u_room",truncate_string(F.col("u_room"),198))
        df2=df2.withColumn("u_roomtype",truncate_string(F.col("u_roomtype"),198))
        df2=df2.withColumn("u_room_number",truncate_string(F.col("u_room_number"),198))
        df2=df2.withColumn("u_shippingactualdate",truncate_string(F.col("u_shippingactualdate"),198))
        df2=df2.withColumn("u_shippingcarrier",truncate_string(F.col("u_shippingcarrier"),198))
        df2=df2.withColumn("u_shippingexpedited",truncate_string(F.col("u_shippingexpedited"),198))
        df2=df2.withColumn("u_shipping_delivery_date",truncate_string(F.col("u_shipping_delivery_date"),198))
        df2=df2.withColumn("u_sitecode",truncate_string(F.col("u_sitecode"),198))
        df2=df2.withColumn("u_sitename",truncate_string(F.col("u_sitename"),198))
        df2=df2.withColumn("u_sla_name",truncate_string(F.col("u_sla_name"),198))
        df2=df2.withColumn("u_swap_date",truncate_string(F.col("u_swap_date"),198))
        df2=df2.withColumn("u_usagecode",truncate_string(F.col("u_usagecode"),198))
        df2=df2.withColumn("u_usagelabel",truncate_string(F.col("u_usagelabel"),198))
        df2=df2.withColumn("u_username",truncate_string(F.col("u_username"),198))
        df2=df2.withColumn("u_user_name",truncate_string(F.col("u_user_name"),198))
        df2=df2.withColumn("u_vendorfulfillmentstatus",truncate_string(F.col("u_vendorfulfillmentstatus"),198))
        df2=df2.withColumn("u_vendorordernumber",truncate_string(F.col("u_vendorordernumber"),198))
        df2=df2.withColumn("u_vendorpurchasedate",truncate_string(F.col("u_vendorpurchasedate"),198))
        df2=df2.withColumn("u_warrantyextenddate",truncate_string(F.col("u_warrantyextenddate"),198))
        df2=df2.withColumn("u_warrantyextprovider",truncate_string(F.col("u_warrantyextprovider"),198))
        df2=df2.withColumn("u_warrantyextstartdate",truncate_string(F.col("u_warrantyextstartdate"),198))
        df2=df2.withColumn("u_warrantyextterms",truncate_string(F.col("u_warrantyextterms"),198))
        df2=df2.withColumn("u_warrantyextvendordata",truncate_string(F.col("u_warrantyextvendordata"),198))
        df2=df2.withColumn("u_warrantyflag",truncate_string(F.col("u_warrantyflag"),198))
        df2=df2.withColumn("u_warrantystdenddate",truncate_string(F.col("u_warrantystdenddate"),198))
        df2=df2.withColumn("u_warrantystdprovider",truncate_string(F.col("u_warrantystdprovider"),198))
        df2=df2.withColumn("u_warrantystdstartdate",truncate_string(F.col("u_warrantystdstartdate"),198))
        df2=df2.withColumn("u_warrantystdterms",truncate_string(F.col("u_warrantystdterms"),198))
        df2=df2.withColumn("u_warrantystdvendordata",truncate_string(F.col("u_warrantystdvendordata"),198))
        df2=df2.withColumn("u_zip",truncate_string(F.col("u_zip"),198))
        df2=df2.withColumn("u_z_recordcreatedwhen",truncate_string(F.col("u_z_recordcreatedwhen"),198))
        df2=df2.withColumn("warranty_expiration",truncate_string(F.col("warranty_expiration"),198))
        df2=df2.withColumn("u_device_type_name",truncate_string(F.col("u_device_type_name"),198))
        df2=df2.withColumn("u_device_type_code",truncate_string(F.col("u_device_type_code"),98))
        df2=df2.withColumn("u_device_type_sys_id",truncate_string(F.col("u_device_type_sys_id"),98))
        df2=df2.withColumn("u_substate",truncate_string(F.col("u_substate"),98))
        df2=df2.withColumn("u_inventory_site",truncate_string(F.col("u_inventory_site"),98))
        df2=df2.withColumn("model_name",truncate_string(F.col("model_name"),198))
        df2=df2.withColumn("model",truncate_string(F.col("model"),198))
        df2=df2.withColumn("u_carrier_info_last_updated",truncate_string(F.col("u_carrier_info_last_updated"),98))
        offset_list.append(f'{df2.count()}, {timestamp}, {offset}')
        filename = f"abfss://datalake@{storageaccount}.windows.net/servnow/cmdb_ci/{filedate}/"
        df2.coalesce(1).write.mode("append").parquet(path= filename)
        offset = offset + 1
        getData()

getData()  
filename1 = f"abfss://datalake@{storageaccount}.windows.net/servnow/offset_list/{filedate}/"
# Convert the list to a PySpark DataFrame
offsetdf = spark.createDataFrame(offset_list, StringType())
# df.repartition(1000).write.mode("append").parquet(path=filename)
offsetdf.coalesce(1).write.mode("append").format('csv').save(path=filename1)
